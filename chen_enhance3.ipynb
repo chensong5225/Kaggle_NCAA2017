{
 "cells": [
  {
   "cell_type": "code",
   "execution_count": 30,
   "metadata": {
    "collapsed": false
   },
   "outputs": [],
   "source": [
    "# detail data per team\n",
    "# change score_hold to get different subset of the data\n",
    "# 5 = 25%, 10 = 50%, 16 = 75%, 75 = 100%\n",
    "import numpy as np\n",
    "import pandas as pd\n",
    "\n",
    "reg = pd.read_csv(\"data/RegularSeasonDetailedResults.csv\")\n",
    "reg['score_diff'] = abs(reg.Wscore - reg.Lscore)\n",
    "\n",
    "score_hold = 20\n",
    "data = reg[reg.score_diff<=score_hold]\n",
    "\n",
    "## 把输赢队的技术统计分开\n",
    "df1 = data[['Season','Daynum','Wteam','Wscore','Wfgm','Wfga','Wfgm3','Wfga3','Wftm','Wfta','Wor','Wdr','Wast','Wto','Wstl','Wblk','Wpf']].copy()\n",
    "df2 = data[['Season','Daynum','Lteam','Lscore','Lfgm','Lfga','Lfgm3','Lfga3','Lftm','Lfta','Lor','Ldr','Last','Lto','Lstl','Lblk','Lpf']].copy()\n",
    "\n",
    "dfw=df1.groupby(['Wteam']).mean()\n",
    "dfl=df2.groupby(['Lteam']).mean()\n",
    "dfw.head()\n",
    "\n",
    "dfa = pd.concat([dfw, dfl], axis=1)\n",
    "\n",
    "dfa = dfa.dropna()\n",
    "\n",
    "dfa['score'] = dfa['Wscore'] + dfa['Lscore'];\n",
    "dfa['fgm'] = dfa['Wfgm'] + dfa['Lfgm'];\n",
    "dfa['fga'] = dfa['Wfga'] + dfa['Lfga'];\n",
    "dfa['fgm3'] = dfa['Wfgm3'] + dfa['Lfgm3'];\n",
    "dfa['fga3'] = dfa['Wfga3'] + dfa['Lfga3'];\n",
    "dfa['ftm'] = dfa['Wftm'] + dfa['Lftm'];\n",
    "dfa['fta'] = dfa['Wfta'] + dfa['Lfta'];\n",
    "dfa['or'] = dfa['Wor'] + dfa['Lor'];\n",
    "dfa['dr'] = dfa['Wdr'] + dfa['Ldr'];\n",
    "dfa['ast'] = dfa['Wast'] + dfa['Last'];\n",
    "dfa['to'] = dfa['Wto'] + dfa['Lto'];\n",
    "dfa['stl'] = dfa['Wstl'] + dfa['Lstl'];\n",
    "dfa['blk'] = dfa['Wblk'] + dfa['Lblk'];\n",
    "dfa['pf'] = dfa['Wpf'] + dfa['Lpf'];\n",
    "\n",
    "data0 = dfa[[-14,-13,-12,-11,-10,-9,-8,-7,-6,-5,-4,-3,-2,-1]]\n",
    "\n",
    "dfm=data0/2;\n",
    "dfm = dfm.reset_index()\n",
    "\n",
    "tour = pd.read_csv(\"data/TourneyCompactResults.csv\")\n",
    "tour = tour.rename(columns={\"Wteam\":\"team1\", \"Lteam\":\"team2\"})\n",
    "# add a column of game results\n",
    "tour[\"result\"] = np.repeat(1,2050)\n",
    "for i in range(2050):\n",
    "    if tour.team1[i] > tour.team2[i]:       \n",
    "        team1 = tour.team2[i]\n",
    "        team2 = tour.team1[i]\n",
    "        tour.set_value(i, \"team1\", team1)\n",
    "        tour.set_value(i, \"team2\", team2)\n",
    "        tour.set_value(i, \"result\", 0)\n",
    "        \n",
    "data = tour[[0,2,4,8]]\n",
    "\n",
    "data = pd.merge(data, dfm, how='left', left_on=[\"team1\"], right_on=[\"index\"])\n",
    "data = pd.merge(data, dfm, how='left', left_on=[\"team2\"], right_on=[\"index\"])\n",
    "\n",
    "data = data.dropna()\n",
    "data0 = data.drop(data.columns[[4,-15]], axis=1)\n",
    "\n",
    "target = data0['result']\n",
    "df = data0.drop(data.columns[[0,1,2,3]], axis=1)"
   ]
  },
  {
   "cell_type": "code",
   "execution_count": 31,
   "metadata": {
    "collapsed": false
   },
   "outputs": [
    {
     "name": "stdout",
     "output_type": "stream",
     "text": [
      "0.656920077973\n",
      "[[158 114]\n",
      " [ 62 179]]\n",
      "0.610921501706\n",
      "0.742738589212\n",
      "[ 0.62530414  0.6902439   0.65609756  0.64146341  0.66992665]\n"
     ]
    }
   ],
   "source": [
    "# finally we are ready to make some prediction\n",
    "# import packages\n",
    "from sklearn.linear_model import LogisticRegression\n",
    "from sklearn.model_selection import train_test_split\n",
    "from sklearn.discriminant_analysis import QuadraticDiscriminantAnalysis\n",
    "from sklearn.metrics import confusion_matrix, precision_score, recall_score\n",
    "from sklearn.model_selection import cross_val_score\n",
    "\n",
    "x_train, x_test, y_train, y_test = train_test_split(df, target, random_state=0)\n",
    "\n",
    "log = LogisticRegression().fit(x_train, y_train)\n",
    "print(log.score(x_test,y_test));\n",
    "\n",
    "pred = log.predict(x_test)\n",
    "confusion = confusion_matrix(y_test,pred)\n",
    "print(confusion);\n",
    "print(precision_score(y_test,pred));\n",
    "print(recall_score(y_test,pred));\n",
    "\n",
    "logreg = LogisticRegression()\n",
    "scores = cross_val_score(logreg, df, target, cv=5)\n",
    "print(scores)"
   ]
  },
  {
   "cell_type": "code",
   "execution_count": null,
   "metadata": {
    "collapsed": true
   },
   "outputs": [],
   "source": [
    "dfm.to_csv(\"detail_per_team_all.csv\")"
   ]
  }
 ],
 "metadata": {
  "kernelspec": {
   "display_name": "Python 3",
   "language": "python",
   "name": "python3"
  },
  "language_info": {
   "codemirror_mode": {
    "name": "ipython",
    "version": 3
   },
   "file_extension": ".py",
   "mimetype": "text/x-python",
   "name": "python",
   "nbconvert_exporter": "python",
   "pygments_lexer": "ipython3",
   "version": "3.6.0"
  }
 },
 "nbformat": 4,
 "nbformat_minor": 2
}
