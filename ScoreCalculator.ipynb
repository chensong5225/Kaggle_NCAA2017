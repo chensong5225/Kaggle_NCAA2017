{
 "cells": [
  {
   "cell_type": "code",
   "execution_count": 16,
   "metadata": {},
   "outputs": [],
   "source": [
    "import pandas as pd\n",
    "import math\n",
    "def scoreCalculator(labels, probs):\n",
    "    sum = 0.0\n",
    "    for i in range(0, labels.size):\n",
    "        sum += labels.loc[i,0] * math.log(probs.loc[i,0]) + (1 - labels.loc[i,0]) * math.log(1 - probs.loc[i,0])\n",
    "    return -sum / labels.size\n",
    "#label = pd.DataFrame([1, 0, 1])\n",
    "#probs = pd.DataFrame([0.999, 0.001, 0.999])\n",
    "#scoreCalculator(label, probs)\n",
    "#print(label.loc[1,0])"
   ]
  },
  {
   "cell_type": "code",
   "execution_count": null,
   "metadata": {
    "collapsed": true
   },
   "outputs": [],
   "source": []
  }
 ],
 "metadata": {
  "kernelspec": {
   "display_name": "Python 3",
   "language": "python",
   "name": "python3"
  },
  "language_info": {
   "codemirror_mode": {
    "name": "ipython",
    "version": 3
   },
   "file_extension": ".py",
   "mimetype": "text/x-python",
   "name": "python",
   "nbconvert_exporter": "python",
   "pygments_lexer": "ipython3",
   "version": "3.6.1"
  }
 },
 "nbformat": 4,
 "nbformat_minor": 2
}
